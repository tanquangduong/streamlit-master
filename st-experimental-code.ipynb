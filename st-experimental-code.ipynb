{
 "cells": [
  {
   "cell_type": "code",
   "execution_count": 89,
   "id": "b9827a67",
   "metadata": {},
   "outputs": [],
   "source": [
    "import streamlit as st\n",
    "import pandas as pd\n",
    "from PIL import Image\n",
    "from glob import glob\n",
    "from pathlib import Path\n",
    "import matplotlib.pyplot as plt\n",
    "%matplotlib inline\n",
    "import seaborn as sns\n",
    "import numpy as np"
   ]
  },
  {
   "cell_type": "code",
   "execution_count": 7,
   "id": "08dcfdfc",
   "metadata": {},
   "outputs": [
    {
     "data": {
      "text/plain": [
       "['.\\\\datasets\\\\2008_swing_states.csv', '.\\\\datasets\\\\co2-emissions.csv']"
      ]
     },
     "execution_count": 7,
     "metadata": {},
     "output_type": "execute_result"
    }
   ],
   "source": [
    "ds_list = glob(\".\\datasets\\*.csv\")\n",
    "ds_list"
   ]
  },
  {
   "cell_type": "code",
   "execution_count": 8,
   "id": "37d26bfa",
   "metadata": {},
   "outputs": [
    {
     "data": {
      "text/plain": [
       "'2008_swing_states'"
      ]
     },
     "execution_count": 8,
     "metadata": {},
     "output_type": "execute_result"
    }
   ],
   "source": [
    "ds_path = ds_list[0]\n",
    "file_name = Path(ds_path).stem"
   ]
  },
  {
   "cell_type": "code",
   "execution_count": 9,
   "id": "079ea572",
   "metadata": {},
   "outputs": [
    {
     "data": {
      "text/plain": [
       "'.csv'"
      ]
     },
     "execution_count": 9,
     "metadata": {},
     "output_type": "execute_result"
    }
   ],
   "source": [
    "Path(ds_path).suffix"
   ]
  },
  {
   "cell_type": "code",
   "execution_count": 12,
   "id": "6bc6d7f7",
   "metadata": {},
   "outputs": [
    {
     "data": {
      "text/plain": [
       "(222, 6)"
      ]
     },
     "execution_count": 12,
     "metadata": {},
     "output_type": "execute_result"
    }
   ],
   "source": [
    "df = pd.read_csv(ds_path)\n",
    "df_shape = df.shape\n",
    "df_shape"
   ]
  },
  {
   "cell_type": "code",
   "execution_count": 13,
   "id": "c258ce60",
   "metadata": {},
   "outputs": [
    {
     "data": {
      "text/plain": [
       "222"
      ]
     },
     "execution_count": 13,
     "metadata": {},
     "output_type": "execute_result"
    }
   ],
   "source": [
    "df_shape[0]"
   ]
  },
  {
   "cell_type": "code",
   "execution_count": 14,
   "id": "938ef1e9",
   "metadata": {},
   "outputs": [
    {
     "data": {
      "text/plain": [
       "6"
      ]
     },
     "execution_count": 14,
     "metadata": {},
     "output_type": "execute_result"
    }
   ],
   "source": [
    "df_shape[1]"
   ]
  },
  {
   "cell_type": "code",
   "execution_count": 16,
   "id": "27c55cbe",
   "metadata": {},
   "outputs": [
    {
     "data": {
      "text/plain": [
       "['state', 'county', 'total_votes', 'dem_votes', 'rep_votes', 'dem_share']"
      ]
     },
     "execution_count": 16,
     "metadata": {},
     "output_type": "execute_result"
    }
   ],
   "source": [
    "column_name = list(df.columns)\n",
    "column_name"
   ]
  },
  {
   "cell_type": "code",
   "execution_count": 17,
   "id": "adf9fa23",
   "metadata": {},
   "outputs": [
    {
     "name": "stdout",
     "output_type": "stream",
     "text": [
      "<class 'pandas.core.frame.DataFrame'>\n",
      "RangeIndex: 222 entries, 0 to 221\n",
      "Data columns (total 6 columns):\n",
      " #   Column       Non-Null Count  Dtype  \n",
      "---  ------       --------------  -----  \n",
      " 0   state        222 non-null    object \n",
      " 1   county       222 non-null    object \n",
      " 2   total_votes  222 non-null    int64  \n",
      " 3   dem_votes    222 non-null    int64  \n",
      " 4   rep_votes    222 non-null    int64  \n",
      " 5   dem_share    222 non-null    float64\n",
      "dtypes: float64(1), int64(3), object(2)\n",
      "memory usage: 10.5+ KB\n"
     ]
    }
   ],
   "source": [
    "df_info = df.info()"
   ]
  },
  {
   "cell_type": "code",
   "execution_count": 18,
   "id": "297410f1",
   "metadata": {},
   "outputs": [
    {
     "data": {
      "text/plain": [
       "NoneType"
      ]
     },
     "execution_count": 18,
     "metadata": {},
     "output_type": "execute_result"
    }
   ],
   "source": [
    "type(df_info)"
   ]
  },
  {
   "cell_type": "code",
   "execution_count": 19,
   "id": "373f18c5",
   "metadata": {},
   "outputs": [
    {
     "data": {
      "text/html": [
       "<div>\n",
       "<style scoped>\n",
       "    .dataframe tbody tr th:only-of-type {\n",
       "        vertical-align: middle;\n",
       "    }\n",
       "\n",
       "    .dataframe tbody tr th {\n",
       "        vertical-align: top;\n",
       "    }\n",
       "\n",
       "    .dataframe thead th {\n",
       "        text-align: right;\n",
       "    }\n",
       "</style>\n",
       "<table border=\"1\" class=\"dataframe\">\n",
       "  <thead>\n",
       "    <tr style=\"text-align: right;\">\n",
       "      <th></th>\n",
       "    </tr>\n",
       "  </thead>\n",
       "  <tbody>\n",
       "  </tbody>\n",
       "</table>\n",
       "</div>"
      ],
      "text/plain": [
       "Empty DataFrame\n",
       "Columns: []\n",
       "Index: []"
      ]
     },
     "execution_count": 19,
     "metadata": {},
     "output_type": "execute_result"
    }
   ],
   "source": [
    "pd.DataFrame(df_info)"
   ]
  },
  {
   "cell_type": "code",
   "execution_count": 27,
   "id": "f1ece303",
   "metadata": {},
   "outputs": [
    {
     "data": {
      "text/html": [
       "<div>\n",
       "<style scoped>\n",
       "    .dataframe tbody tr th:only-of-type {\n",
       "        vertical-align: middle;\n",
       "    }\n",
       "\n",
       "    .dataframe tbody tr th {\n",
       "        vertical-align: top;\n",
       "    }\n",
       "\n",
       "    .dataframe thead th {\n",
       "        text-align: right;\n",
       "    }\n",
       "</style>\n",
       "<table border=\"1\" class=\"dataframe\">\n",
       "  <thead>\n",
       "    <tr style=\"text-align: right;\">\n",
       "      <th></th>\n",
       "      <th>Dtype</th>\n",
       "    </tr>\n",
       "    <tr>\n",
       "      <th>Columns</th>\n",
       "      <th></th>\n",
       "    </tr>\n",
       "  </thead>\n",
       "  <tbody>\n",
       "    <tr>\n",
       "      <th>state</th>\n",
       "      <td>object</td>\n",
       "    </tr>\n",
       "    <tr>\n",
       "      <th>county</th>\n",
       "      <td>object</td>\n",
       "    </tr>\n",
       "    <tr>\n",
       "      <th>total_votes</th>\n",
       "      <td>int64</td>\n",
       "    </tr>\n",
       "    <tr>\n",
       "      <th>dem_votes</th>\n",
       "      <td>int64</td>\n",
       "    </tr>\n",
       "    <tr>\n",
       "      <th>rep_votes</th>\n",
       "      <td>int64</td>\n",
       "    </tr>\n",
       "    <tr>\n",
       "      <th>dem_share</th>\n",
       "      <td>float64</td>\n",
       "    </tr>\n",
       "  </tbody>\n",
       "</table>\n",
       "</div>"
      ],
      "text/plain": [
       "               Dtype\n",
       "Columns             \n",
       "state         object\n",
       "county        object\n",
       "total_votes    int64\n",
       "dem_votes      int64\n",
       "rep_votes      int64\n",
       "dem_share    float64"
      ]
     },
     "execution_count": 27,
     "metadata": {},
     "output_type": "execute_result"
    }
   ],
   "source": [
    "df_dtypes = pd.DataFrame(df.dtypes, columns=['Dtype'])\n",
    "df_dtypes.index.name='Columns'\n",
    "df_dtypes"
   ]
  },
  {
   "cell_type": "code",
   "execution_count": 35,
   "id": "da6a2487",
   "metadata": {},
   "outputs": [
    {
     "data": {
      "text/plain": [
       "Columns\n",
       "state          0\n",
       "county         0\n",
       "total_votes    0\n",
       "dem_votes      0\n",
       "rep_votes      0\n",
       "dem_share      0\n",
       "dtype: int64"
      ]
     },
     "execution_count": 35,
     "metadata": {},
     "output_type": "execute_result"
    }
   ],
   "source": [
    "df.isna().sum()"
   ]
  },
  {
   "cell_type": "code",
   "execution_count": 38,
   "id": "9a4305d2",
   "metadata": {},
   "outputs": [
    {
     "data": {
      "text/plain": [
       "pandas.core.series.Series"
      ]
     },
     "execution_count": 38,
     "metadata": {},
     "output_type": "execute_result"
    }
   ],
   "source": [
    "type(df.isna().sum())"
   ]
  },
  {
   "cell_type": "code",
   "execution_count": 39,
   "id": "0f88874c",
   "metadata": {},
   "outputs": [
    {
     "name": "stdout",
     "output_type": "stream",
     "text": [
      "<class 'pandas.core.series.Series'>\n",
      "RangeIndex: 222 entries, 0 to 221\n",
      "Series name: state\n",
      "Non-Null Count  Dtype \n",
      "--------------  ----- \n",
      "222 non-null    object\n",
      "dtypes: object(1)\n",
      "memory usage: 1.9+ KB\n"
     ]
    }
   ],
   "source": [
    "df.state.info()"
   ]
  },
  {
   "cell_type": "code",
   "execution_count": 40,
   "id": "6f7e0ca7",
   "metadata": {},
   "outputs": [
    {
     "data": {
      "text/plain": [
       "count     222\n",
       "unique      3\n",
       "top        OH\n",
       "freq       88\n",
       "Name: state, dtype: object"
      ]
     },
     "execution_count": 40,
     "metadata": {},
     "output_type": "execute_result"
    }
   ],
   "source": [
    "df.state.describe()"
   ]
  },
  {
   "cell_type": "code",
   "execution_count": 41,
   "id": "959e2476",
   "metadata": {},
   "outputs": [
    {
     "data": {
      "text/plain": [
       "['state', 'county', 'total_votes', 'dem_votes', 'rep_votes', 'dem_share']"
      ]
     },
     "execution_count": 41,
     "metadata": {},
     "output_type": "execute_result"
    }
   ],
   "source": [
    "column_name"
   ]
  },
  {
   "cell_type": "code",
   "execution_count": 45,
   "id": "311f1fac",
   "metadata": {},
   "outputs": [
    {
     "data": {
      "text/html": [
       "<div>\n",
       "<style scoped>\n",
       "    .dataframe tbody tr th:only-of-type {\n",
       "        vertical-align: middle;\n",
       "    }\n",
       "\n",
       "    .dataframe tbody tr th {\n",
       "        vertical-align: top;\n",
       "    }\n",
       "\n",
       "    .dataframe thead th {\n",
       "        text-align: right;\n",
       "    }\n",
       "</style>\n",
       "<table border=\"1\" class=\"dataframe\">\n",
       "  <thead>\n",
       "    <tr style=\"text-align: right;\">\n",
       "      <th></th>\n",
       "      <th>state</th>\n",
       "    </tr>\n",
       "  </thead>\n",
       "  <tbody>\n",
       "    <tr>\n",
       "      <th>count</th>\n",
       "      <td>222</td>\n",
       "    </tr>\n",
       "    <tr>\n",
       "      <th>unique</th>\n",
       "      <td>3</td>\n",
       "    </tr>\n",
       "    <tr>\n",
       "      <th>top</th>\n",
       "      <td>OH</td>\n",
       "    </tr>\n",
       "    <tr>\n",
       "      <th>freq</th>\n",
       "      <td>88</td>\n",
       "    </tr>\n",
       "  </tbody>\n",
       "</table>\n",
       "</div>"
      ],
      "text/plain": [
       "       state\n",
       "count    222\n",
       "unique     3\n",
       "top       OH\n",
       "freq      88"
      ]
     },
     "execution_count": 45,
     "metadata": {},
     "output_type": "execute_result"
    }
   ],
   "source": [
    "pd.DataFrame(df[column_name[0]].describe())"
   ]
  },
  {
   "cell_type": "code",
   "execution_count": 46,
   "id": "8ec2ac4d",
   "metadata": {},
   "outputs": [
    {
     "name": "stdout",
     "output_type": "stream",
     "text": [
      "<class 'pandas.core.series.Series'>\n",
      "RangeIndex: 222 entries, 0 to 221\n",
      "Series name: state\n",
      "Non-Null Count  Dtype \n",
      "--------------  ----- \n",
      "222 non-null    object\n",
      "dtypes: object(1)\n",
      "memory usage: 1.9+ KB\n"
     ]
    },
    {
     "data": {
      "text/html": [
       "<div>\n",
       "<style scoped>\n",
       "    .dataframe tbody tr th:only-of-type {\n",
       "        vertical-align: middle;\n",
       "    }\n",
       "\n",
       "    .dataframe tbody tr th {\n",
       "        vertical-align: top;\n",
       "    }\n",
       "\n",
       "    .dataframe thead th {\n",
       "        text-align: right;\n",
       "    }\n",
       "</style>\n",
       "<table border=\"1\" class=\"dataframe\">\n",
       "  <thead>\n",
       "    <tr style=\"text-align: right;\">\n",
       "      <th></th>\n",
       "    </tr>\n",
       "  </thead>\n",
       "  <tbody>\n",
       "  </tbody>\n",
       "</table>\n",
       "</div>"
      ],
      "text/plain": [
       "Empty DataFrame\n",
       "Columns: []\n",
       "Index: []"
      ]
     },
     "execution_count": 46,
     "metadata": {},
     "output_type": "execute_result"
    }
   ],
   "source": [
    "pd.DataFrame(df[column_name[0]].info())"
   ]
  },
  {
   "cell_type": "code",
   "execution_count": 48,
   "id": "2c97c795",
   "metadata": {},
   "outputs": [
    {
     "data": {
      "text/plain": [
       "0"
      ]
     },
     "execution_count": 48,
     "metadata": {},
     "output_type": "execute_result"
    }
   ],
   "source": [
    "df.state.isnull().sum()"
   ]
  },
  {
   "cell_type": "code",
   "execution_count": 54,
   "id": "34c96257",
   "metadata": {},
   "outputs": [
    {
     "data": {
      "text/plain": [
       "3"
      ]
     },
     "execution_count": 54,
     "metadata": {},
     "output_type": "execute_result"
    }
   ],
   "source": [
    "df.state.nunique()"
   ]
  },
  {
   "cell_type": "code",
   "execution_count": 56,
   "id": "a4c85fa7",
   "metadata": {},
   "outputs": [
    {
     "ename": "AttributeError",
     "evalue": "module 'pandas' has no attribute 'nunique'",
     "output_type": "error",
     "traceback": [
      "\u001b[1;31m---------------------------------------------------------------------------\u001b[0m",
      "\u001b[1;31mAttributeError\u001b[0m                            Traceback (most recent call last)",
      "Cell \u001b[1;32mIn[56], line 1\u001b[0m\n\u001b[1;32m----> 1\u001b[0m \u001b[43mpd\u001b[49m\u001b[38;5;241;43m.\u001b[39;49m\u001b[43mnunique\u001b[49m(df\u001b[38;5;241m.\u001b[39mstate, axis\u001b[38;5;241m=\u001b[39m\u001b[38;5;241m0\u001b[39m)\n",
      "File \u001b[1;32m~\\Anaconda3\\envs\\streamlit\\lib\\site-packages\\pandas\\__init__.py:264\u001b[0m, in \u001b[0;36m__getattr__\u001b[1;34m(name)\u001b[0m\n\u001b[0;32m    260\u001b[0m     \u001b[38;5;28;01mfrom\u001b[39;00m \u001b[38;5;21;01mpandas\u001b[39;00m\u001b[38;5;21;01m.\u001b[39;00m\u001b[38;5;21;01mcore\u001b[39;00m\u001b[38;5;21;01m.\u001b[39;00m\u001b[38;5;21;01marrays\u001b[39;00m\u001b[38;5;21;01m.\u001b[39;00m\u001b[38;5;21;01msparse\u001b[39;00m \u001b[38;5;28;01mimport\u001b[39;00m SparseArray \u001b[38;5;28;01mas\u001b[39;00m _SparseArray\n\u001b[0;32m    262\u001b[0m     \u001b[38;5;28;01mreturn\u001b[39;00m _SparseArray\n\u001b[1;32m--> 264\u001b[0m \u001b[38;5;28;01mraise\u001b[39;00m \u001b[38;5;167;01mAttributeError\u001b[39;00m(\u001b[38;5;124mf\u001b[39m\u001b[38;5;124m\"\u001b[39m\u001b[38;5;124mmodule \u001b[39m\u001b[38;5;124m'\u001b[39m\u001b[38;5;124mpandas\u001b[39m\u001b[38;5;124m'\u001b[39m\u001b[38;5;124m has no attribute \u001b[39m\u001b[38;5;124m'\u001b[39m\u001b[38;5;132;01m{\u001b[39;00mname\u001b[38;5;132;01m}\u001b[39;00m\u001b[38;5;124m'\u001b[39m\u001b[38;5;124m\"\u001b[39m)\n",
      "\u001b[1;31mAttributeError\u001b[0m: module 'pandas' has no attribute 'nunique'"
     ]
    }
   ],
   "source": [
    "pd.nunique(df.state, axis=0)"
   ]
  },
  {
   "cell_type": "code",
   "execution_count": 57,
   "id": "a4a403a7",
   "metadata": {},
   "outputs": [
    {
     "data": {
      "text/plain": [
       "Columns\n",
       "state            3\n",
       "county         187\n",
       "total_votes    221\n",
       "dem_votes      222\n",
       "rep_votes      222\n",
       "dem_share      219\n",
       "dtype: int64"
      ]
     },
     "execution_count": 57,
     "metadata": {},
     "output_type": "execute_result"
    }
   ],
   "source": [
    "df.nunique(axis=0)"
   ]
  },
  {
   "cell_type": "code",
   "execution_count": 75,
   "id": "d2ca129b",
   "metadata": {},
   "outputs": [
    {
     "data": {
      "text/html": [
       "<div>\n",
       "<style scoped>\n",
       "    .dataframe tbody tr th:only-of-type {\n",
       "        vertical-align: middle;\n",
       "    }\n",
       "\n",
       "    .dataframe tbody tr th {\n",
       "        vertical-align: top;\n",
       "    }\n",
       "\n",
       "    .dataframe thead th {\n",
       "        text-align: right;\n",
       "    }\n",
       "</style>\n",
       "<table border=\"1\" class=\"dataframe\">\n",
       "  <thead>\n",
       "    <tr style=\"text-align: right;\">\n",
       "      <th></th>\n",
       "      <th>state</th>\n",
       "    </tr>\n",
       "  </thead>\n",
       "  <tbody>\n",
       "    <tr>\n",
       "      <th>PA</th>\n",
       "      <td>67</td>\n",
       "    </tr>\n",
       "    <tr>\n",
       "      <th>FL</th>\n",
       "      <td>67</td>\n",
       "    </tr>\n",
       "    <tr>\n",
       "      <th>OH</th>\n",
       "      <td>88</td>\n",
       "    </tr>\n",
       "  </tbody>\n",
       "</table>\n",
       "</div>"
      ],
      "text/plain": [
       "    state\n",
       "PA     67\n",
       "FL     67\n",
       "OH     88"
      ]
     },
     "execution_count": 75,
     "metadata": {},
     "output_type": "execute_result"
    }
   ],
   "source": [
    "pd.DataFrame(df.state.value_counts(ascending=True))"
   ]
  },
  {
   "cell_type": "code",
   "execution_count": 66,
   "id": "963c7d29",
   "metadata": {},
   "outputs": [
    {
     "data": {
      "text/plain": [
       "True"
      ]
     },
     "execution_count": 66,
     "metadata": {},
     "output_type": "execute_result"
    }
   ],
   "source": [
    "df.state.dtype == 'O'"
   ]
  },
  {
   "cell_type": "code",
   "execution_count": 67,
   "id": "d9781f70",
   "metadata": {},
   "outputs": [],
   "source": [
    "chosen_column = 'state'"
   ]
  },
  {
   "cell_type": "code",
   "execution_count": 71,
   "id": "09f4028f",
   "metadata": {},
   "outputs": [],
   "source": [
    "if df[chosen_column].dtype == 'O':\n",
    "    df_unique = pd.DataFrame(df[chosen_column].value_counts(ascending=True), columns=['Count'])\n",
    "    df_unique.index.name = chosen_column"
   ]
  },
  {
   "cell_type": "code",
   "execution_count": 72,
   "id": "b252a392",
   "metadata": {},
   "outputs": [
    {
     "data": {
      "text/html": [
       "<div>\n",
       "<style scoped>\n",
       "    .dataframe tbody tr th:only-of-type {\n",
       "        vertical-align: middle;\n",
       "    }\n",
       "\n",
       "    .dataframe tbody tr th {\n",
       "        vertical-align: top;\n",
       "    }\n",
       "\n",
       "    .dataframe thead th {\n",
       "        text-align: right;\n",
       "    }\n",
       "</style>\n",
       "<table border=\"1\" class=\"dataframe\">\n",
       "  <thead>\n",
       "    <tr style=\"text-align: right;\">\n",
       "      <th></th>\n",
       "      <th>Count</th>\n",
       "    </tr>\n",
       "    <tr>\n",
       "      <th>state</th>\n",
       "      <th></th>\n",
       "    </tr>\n",
       "  </thead>\n",
       "  <tbody>\n",
       "  </tbody>\n",
       "</table>\n",
       "</div>"
      ],
      "text/plain": [
       "Empty DataFrame\n",
       "Columns: [Count]\n",
       "Index: []"
      ]
     },
     "execution_count": 72,
     "metadata": {},
     "output_type": "execute_result"
    }
   ],
   "source": [
    "df_unique"
   ]
  },
  {
   "cell_type": "code",
   "execution_count": 74,
   "id": "dc5b2729",
   "metadata": {},
   "outputs": [
    {
     "data": {
      "text/plain": [
       "PA    67\n",
       "FL    67\n",
       "OH    88\n",
       "Name: state, dtype: int64"
      ]
     },
     "execution_count": 74,
     "metadata": {},
     "output_type": "execute_result"
    }
   ],
   "source": [
    "df[chosen_column].value_counts(ascending=True)"
   ]
  },
  {
   "cell_type": "code",
   "execution_count": 76,
   "id": "db75c0df",
   "metadata": {
    "scrolled": true
   },
   "outputs": [],
   "source": [
    "df_unique = pd.DataFrame(df[chosen_column].value_counts(ascending=True))"
   ]
  },
  {
   "cell_type": "code",
   "execution_count": 78,
   "id": "ca33cd9c",
   "metadata": {},
   "outputs": [
    {
     "data": {
      "text/html": [
       "<div>\n",
       "<style scoped>\n",
       "    .dataframe tbody tr th:only-of-type {\n",
       "        vertical-align: middle;\n",
       "    }\n",
       "\n",
       "    .dataframe tbody tr th {\n",
       "        vertical-align: top;\n",
       "    }\n",
       "\n",
       "    .dataframe thead th {\n",
       "        text-align: right;\n",
       "    }\n",
       "</style>\n",
       "<table border=\"1\" class=\"dataframe\">\n",
       "  <thead>\n",
       "    <tr style=\"text-align: right;\">\n",
       "      <th></th>\n",
       "      <th>count</th>\n",
       "    </tr>\n",
       "  </thead>\n",
       "  <tbody>\n",
       "    <tr>\n",
       "      <th>PA</th>\n",
       "      <td>67</td>\n",
       "    </tr>\n",
       "    <tr>\n",
       "      <th>FL</th>\n",
       "      <td>67</td>\n",
       "    </tr>\n",
       "    <tr>\n",
       "      <th>OH</th>\n",
       "      <td>88</td>\n",
       "    </tr>\n",
       "  </tbody>\n",
       "</table>\n",
       "</div>"
      ],
      "text/plain": [
       "    count\n",
       "PA     67\n",
       "FL     67\n",
       "OH     88"
      ]
     },
     "execution_count": 78,
     "metadata": {},
     "output_type": "execute_result"
    }
   ],
   "source": [
    "df_unique.rename(columns={'state':'count'}, inplace=True)\n",
    "df_unique"
   ]
  },
  {
   "cell_type": "code",
   "execution_count": 79,
   "id": "ee35f714",
   "metadata": {},
   "outputs": [],
   "source": [
    "df_unique.index.name = chosen_column"
   ]
  },
  {
   "cell_type": "code",
   "execution_count": 80,
   "id": "b24adce7",
   "metadata": {},
   "outputs": [
    {
     "data": {
      "text/html": [
       "<div>\n",
       "<style scoped>\n",
       "    .dataframe tbody tr th:only-of-type {\n",
       "        vertical-align: middle;\n",
       "    }\n",
       "\n",
       "    .dataframe tbody tr th {\n",
       "        vertical-align: top;\n",
       "    }\n",
       "\n",
       "    .dataframe thead th {\n",
       "        text-align: right;\n",
       "    }\n",
       "</style>\n",
       "<table border=\"1\" class=\"dataframe\">\n",
       "  <thead>\n",
       "    <tr style=\"text-align: right;\">\n",
       "      <th></th>\n",
       "      <th>count</th>\n",
       "    </tr>\n",
       "    <tr>\n",
       "      <th>state</th>\n",
       "      <th></th>\n",
       "    </tr>\n",
       "  </thead>\n",
       "  <tbody>\n",
       "    <tr>\n",
       "      <th>PA</th>\n",
       "      <td>67</td>\n",
       "    </tr>\n",
       "    <tr>\n",
       "      <th>FL</th>\n",
       "      <td>67</td>\n",
       "    </tr>\n",
       "    <tr>\n",
       "      <th>OH</th>\n",
       "      <td>88</td>\n",
       "    </tr>\n",
       "  </tbody>\n",
       "</table>\n",
       "</div>"
      ],
      "text/plain": [
       "       count\n",
       "state       \n",
       "PA        67\n",
       "FL        67\n",
       "OH        88"
      ]
     },
     "execution_count": 80,
     "metadata": {},
     "output_type": "execute_result"
    }
   ],
   "source": [
    "df_unique"
   ]
  },
  {
   "cell_type": "code",
   "execution_count": 81,
   "id": "51d0ac1e",
   "metadata": {},
   "outputs": [],
   "source": [
    "selected_columns = []"
   ]
  },
  {
   "cell_type": "code",
   "execution_count": 82,
   "id": "847f64c3",
   "metadata": {},
   "outputs": [
    {
     "data": {
      "text/plain": [
       "0"
      ]
     },
     "execution_count": 82,
     "metadata": {},
     "output_type": "execute_result"
    }
   ],
   "source": [
    "len(selected_columns)"
   ]
  },
  {
   "cell_type": "code",
   "execution_count": 102,
   "id": "e2a61159",
   "metadata": {},
   "outputs": [
    {
     "data": {
      "image/png": "[encoded data removed]",
      "text/plain": [
       "<Figure size 1000x400 with 1 Axes>"
      ]
     },
     "metadata": {},
     "output_type": "display_data"
    }
   ],
   "source": [
    "fig, ax = plt.subplots(figsize=(10, 4))\n",
    "num_bins = 100\n",
    "ax.hist(df.total_votes, num_bins, \n",
    "                            density = 1, \n",
    "                            color ='green',\n",
    "                            alpha = 0.7)\n",
    "ax.set_title(f'Histogram',fontdict={'fontsize': 15, 'fontweight': 'bold'})\n",
    "ax.set_xlabel('Category', fontsize=15, fontweight='bold')\n",
    "ax.set_ylabel('Sum', fontsize=15, fontweight='bold')\n",
    "# Hide the right and top spines\n",
    "ax.spines[['right', 'top']].set_visible(False)\n",
    "plt.show()\n",
    "   \n",
    "# y = ((1 / (np.sqrt(2 * np.pi) * sigma)) *\n",
    "#      np.exp(-0.5 * (1 / sigma * (bins - mu))**2))\n",
    "  \n",
    "# plt.plot(bins, y, '--', color ='black')"
   ]
  },
  {
   "cell_type": "code",
   "execution_count": 105,
   "id": "85733169",
   "metadata": {},
   "outputs": [],
   "source": [
    "col_viz = 'total_votes'"
   ]
  },
  {
   "cell_type": "code",
   "execution_count": 116,
   "id": "89f7d564",
   "metadata": {},
   "outputs": [
    {
     "data": {
      "image/png": "[encoded data removed]",
      "text/plain": [
       "<Figure size 1000x400 with 1 Axes>"
      ]
     },
     "metadata": {},
     "output_type": "display_data"
    }
   ],
   "source": [
    "fig_sns, ax_sns = plt.subplots(figsize=(10, 4))\n",
    "g = sns.histplot(data=df,\n",
    "                x=col_viz,\n",
    "                bins=100,\n",
    "                ax=ax_sns)\n",
    "g.set_title('Histogram of \\'{}\\' column'.format(col_viz),\n",
    "                             fontdict={'fontsize': 15, 'fontweight': 'bold'})\n",
    "g.set_xlabel('{}'.format(col_viz), fontsize=15, fontweight='bold')\n",
    "g.set_ylabel('Count', fontsize=15, fontweight='bold')\n",
    "sns.despine()\n",
    "# Show plot\n",
    "plt.show()"
   ]
  },
  {
   "cell_type": "code",
   "execution_count": 117,
   "id": "7eeb5e27",
   "metadata": {},
   "outputs": [],
   "source": [
    "df_quantile = df.sort_values(col_viz, ascending=True)\n",
    "percentage_list = np.arange(0,1.01,0.01)\n",
    "\n",
    "amount_quantile = df_quantile[col_viz].quantile(percentage_list)\n",
    "\n",
    "df_ecdf = pd.DataFrame({\"amount_quantile\": amount_quantile, \"percentage_list\":percentage_list}, index=percentage_list)"
   ]
  },
  {
   "cell_type": "code",
   "execution_count": 118,
   "id": "b5cde76b",
   "metadata": {},
   "outputs": [
    {
     "data": {
      "text/html": [
       "<div>\n",
       "<style scoped>\n",
       "    .dataframe tbody tr th:only-of-type {\n",
       "        vertical-align: middle;\n",
       "    }\n",
       "\n",
       "    .dataframe tbody tr th {\n",
       "        vertical-align: top;\n",
       "    }\n",
       "\n",
       "    .dataframe thead th {\n",
       "        text-align: right;\n",
       "    }\n",
       "</style>\n",
       "<table border=\"1\" class=\"dataframe\">\n",
       "  <thead>\n",
       "    <tr style=\"text-align: right;\">\n",
       "      <th></th>\n",
       "      <th>amount_quantile</th>\n",
       "      <th>percentage_list</th>\n",
       "    </tr>\n",
       "  </thead>\n",
       "  <tbody>\n",
       "    <tr>\n",
       "      <th>0.00</th>\n",
       "      <td>2245.00</td>\n",
       "      <td>0.00</td>\n",
       "    </tr>\n",
       "    <tr>\n",
       "      <th>0.01</th>\n",
       "      <td>3153.18</td>\n",
       "      <td>0.01</td>\n",
       "    </tr>\n",
       "    <tr>\n",
       "      <th>0.02</th>\n",
       "      <td>3358.42</td>\n",
       "      <td>0.02</td>\n",
       "    </tr>\n",
       "    <tr>\n",
       "      <th>0.03</th>\n",
       "      <td>5478.22</td>\n",
       "      <td>0.03</td>\n",
       "    </tr>\n",
       "    <tr>\n",
       "      <th>0.04</th>\n",
       "      <td>5967.72</td>\n",
       "      <td>0.04</td>\n",
       "    </tr>\n",
       "    <tr>\n",
       "      <th>...</th>\n",
       "      <td>...</td>\n",
       "      <td>...</td>\n",
       "    </tr>\n",
       "    <tr>\n",
       "      <th>0.96</th>\n",
       "      <td>462802.36</td>\n",
       "      <td>0.96</td>\n",
       "    </tr>\n",
       "    <tr>\n",
       "      <th>0.97</th>\n",
       "      <td>530706.81</td>\n",
       "      <td>0.97</td>\n",
       "    </tr>\n",
       "    <tr>\n",
       "      <th>0.98</th>\n",
       "      <td>625842.88</td>\n",
       "      <td>0.98</td>\n",
       "    </tr>\n",
       "    <tr>\n",
       "      <th>0.99</th>\n",
       "      <td>706413.83</td>\n",
       "      <td>0.99</td>\n",
       "    </tr>\n",
       "    <tr>\n",
       "      <th>1.00</th>\n",
       "      <td>863486.00</td>\n",
       "      <td>1.00</td>\n",
       "    </tr>\n",
       "  </tbody>\n",
       "</table>\n",
       "<p>101 rows × 2 columns</p>\n",
       "</div>"
      ],
      "text/plain": [
       "      amount_quantile  percentage_list\n",
       "0.00          2245.00             0.00\n",
       "0.01          3153.18             0.01\n",
       "0.02          3358.42             0.02\n",
       "0.03          5478.22             0.03\n",
       "0.04          5967.72             0.04\n",
       "...               ...              ...\n",
       "0.96        462802.36             0.96\n",
       "0.97        530706.81             0.97\n",
       "0.98        625842.88             0.98\n",
       "0.99        706413.83             0.99\n",
       "1.00        863486.00             1.00\n",
       "\n",
       "[101 rows x 2 columns]"
      ]
     },
     "execution_count": 118,
     "metadata": {},
     "output_type": "execute_result"
    }
   ],
   "source": [
    "df_ecdf"
   ]
  },
  {
   "cell_type": "code",
   "execution_count": 122,
   "id": "117c52a9",
   "metadata": {},
   "outputs": [
    {
     "data": {
      "text/plain": [
       "0.00    0.00\n",
       "0.01    0.01\n",
       "0.02    0.02\n",
       "0.03    0.03\n",
       "0.04    0.04\n",
       "        ... \n",
       "0.96    0.96\n",
       "0.97    0.97\n",
       "0.98    0.98\n",
       "0.99    0.99\n",
       "1.00    1.00\n",
       "Name: percentage_list, Length: 101, dtype: float64"
      ]
     },
     "execution_count": 122,
     "metadata": {},
     "output_type": "execute_result"
    }
   ],
   "source": [
    "df_ecdf.percentage_list"
   ]
  },
  {
   "cell_type": "code",
   "execution_count": 123,
   "id": "ef4a1669",
   "metadata": {},
   "outputs": [
    {
     "data": {
      "text/plain": [
       "array([0. , 0.1, 0.2, 0.3, 0.4, 0.5, 0.6, 0.7, 0.8, 0.9, 1. ])"
      ]
     },
     "execution_count": 123,
     "metadata": {},
     "output_type": "execute_result"
    }
   ],
   "source": [
    "np.arange(0, 1.1, step=0.1)"
   ]
  },
  {
   "cell_type": "code",
   "execution_count": 132,
   "id": "9f8251e9",
   "metadata": {},
   "outputs": [
    {
     "data": {
      "text/plain": [
       "2245.0"
      ]
     },
     "execution_count": 132,
     "metadata": {},
     "output_type": "execute_result"
    }
   ],
   "source": [
    "df_ecdf.amount_quantile[0]"
   ]
  },
  {
   "cell_type": "code",
   "execution_count": 136,
   "id": "05a67825",
   "metadata": {},
   "outputs": [
    {
     "data": {
      "text/plain": [
       "pandas.core.series.Series"
      ]
     },
     "execution_count": 136,
     "metadata": {},
     "output_type": "execute_result"
    }
   ],
   "source": [
    "type(df_ecdf.amount_quantile)"
   ]
  },
  {
   "cell_type": "code",
   "execution_count": 137,
   "id": "79826c16",
   "metadata": {},
   "outputs": [
    {
     "data": {
      "text/plain": [
       "863486.0"
      ]
     },
     "execution_count": 137,
     "metadata": {},
     "output_type": "execute_result"
    }
   ],
   "source": [
    "df_ecdf.amount_quantile[1]"
   ]
  },
  {
   "cell_type": "code",
   "execution_count": 145,
   "id": "7e482445",
   "metadata": {},
   "outputs": [
    {
     "data": {
      "image/png": "[encoded data removed]",
      "text/plain": [
       "<Figure size 600x600 with 1 Axes>"
      ]
     },
     "metadata": {},
     "output_type": "display_data"
    }
   ],
   "source": [
    "fig, ax = plt.subplots(figsize=(6,6))\n",
    "\n",
    "plt.plot(df_ecdf.amount_quantile, df_ecdf.percentage_list)\n",
    "\n",
    "quantile_50 = df_ecdf.loc[0.50, 'amount_quantile']\n",
    "quantile_80 = df_ecdf.loc[0.80, 'amount_quantile']\n",
    "quantile_100 = df_ecdf.loc[1.0, 'amount_quantile']\n",
    "\n",
    "plt.vlines([quantile_50], ymin=0, ymax=0.5, linestyles='--', color='k', linewidth=2)\n",
    "plt.hlines([0.50], xmin=0, xmax=quantile_50, linestyles='--', color='k', linewidth=2)\n",
    "\n",
    "plt.vlines([quantile_80], ymin=0, ymax=0.8, linestyles='--', color='k', linewidth=2)\n",
    "plt.hlines([0.80], xmin=0, xmax=quantile_80, linestyles='--', color='k', linewidth=2)\n",
    "\n",
    "\n",
    "plt.vlines([quantile_100], ymin=0, ymax=1.0, linestyles='--', color='k', linewidth=2)\n",
    "plt.hlines([1.0], xmin=0, xmax=quantile_100, linestyles='--', color='k', linewidth=2)\n",
    "\n",
    "\n",
    "plt.yticks([0, 0.5, 0.8, 1], labels=['0', '50%', '80%', '100%'], weight = 'bold')\n",
    "plt.xticks([quantile_50, quantile_80, quantile_100], \n",
    "              labels=[str(round(quantile_50)), str(round(quantile_80)), str(round(quantile_100))], \n",
    "              rotation=20, \n",
    "              weight = 'bold')\n",
    "\n",
    "plt.ylim([0,1.05])\n",
    "plt.xlim([df_ecdf.amount_quantile[0],df_ecdf.amount_quantile[1]])\n",
    "plt.xlabel(\"{}\".format(col_viz), weight = 'bold', fontsize=15)\n",
    "plt.ylabel('ECDF (%)',weight = 'bold', fontsize=15)\n",
    "plt.title(\"ECDF for {}\".format(col_viz), weight = 'bold', fontsize=15, y=1.02)\n",
    "plt.yticks(weight = 'bold')\n",
    "plt.xticks(weight = 'bold')\n",
    "\n",
    "# plt.legend()\n",
    "plt.show()"
   ]
  },
  {
   "cell_type": "code",
   "execution_count": null,
   "id": "00a47216",
   "metadata": {},
   "outputs": [],
   "source": []
  }
 ],
 "metadata": {
  "kernelspec": {
   "display_name": "Python 3 (ipykernel)",
   "language": "python",
   "name": "python3"
  },
  "language_info": {
   "codemirror_mode": {
    "name": "ipython",
    "version": 3
   },
   "file_extension": ".py",
   "mimetype": "text/x-python",
   "name": "python",
   "nbconvert_exporter": "python",
   "pygments_lexer": "ipython3",
   "version": "3.10.9"
  }
 },
 "nbformat": 4,
 "nbformat_minor": 5
}
